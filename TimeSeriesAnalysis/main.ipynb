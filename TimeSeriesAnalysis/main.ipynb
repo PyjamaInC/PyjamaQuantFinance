{
 "cells": [
  {
   "cell_type": "code",
   "execution_count": 1,
   "metadata": {},
   "outputs": [],
   "source": [
    "import numpy as np\n",
    "import var\n",
    "import statsmodels.api as sm\n",
    "from statsmodels.tsa.api import VAR\n",
    "import pandas as pd\n",
    "from scipy.linalg import inv, kron "
   ]
  },
  {
   "cell_type": "code",
   "execution_count": 2,
   "metadata": {},
   "outputs": [
    {
     "data": {
      "text/plain": [
       "(5, 2)"
      ]
     },
     "execution_count": 2,
     "metadata": {},
     "output_type": "execute_result"
    }
   ],
   "source": [
    "np.random.seed(0)\n",
    "data = np.cumsum(np.random.randn(100, 2), axis=0)\n",
    "rdata2 = [\n",
    "    [2.1, 5.2],\n",
    "    [1.8, 5.3],\n",
    "    [2.0, 5.1],\n",
    "    [1.9, 5.4],\n",
    "    [2.2, 5.2]\n",
    "]\n",
    "data2 = np.array(rdata2)\n",
    "data2.shape"
   ]
  },
  {
   "cell_type": "code",
   "execution_count": 27,
   "metadata": {},
   "outputs": [],
   "source": [
    "ols = var.VAR(1)\n",
    "ols_fit = ols.fit(data, 'OLS')"
   ]
  },
  {
   "cell_type": "code",
   "execution_count": 28,
   "metadata": {},
   "outputs": [
    {
     "data": {
      "text/plain": [
       "array([[[ 0.95169316, -0.00642169],\n",
       "        [-0.01268395,  0.98676743]]])"
      ]
     },
     "execution_count": 28,
     "metadata": {},
     "output_type": "execute_result"
    }
   ],
   "source": [
    "ols.coef_"
   ]
  },
  {
   "cell_type": "code",
   "execution_count": 5,
   "metadata": {},
   "outputs": [],
   "source": [
    "Y, Z = var.create_lag_matrix(data2, 1)"
   ]
  },
  {
   "cell_type": "code",
   "execution_count": 6,
   "metadata": {},
   "outputs": [
    {
     "data": {
      "text/plain": [
       "array([[-1.8875,  6.9   ],\n",
       "       [-0.375 ,  0.5   ],\n",
       "       [ 0.875 , -0.5   ]])"
      ]
     },
     "execution_count": 6,
     "metadata": {},
     "output_type": "execute_result"
    }
   ],
   "source": [
    "var.ols_estimation(Y, Z)"
   ]
  },
  {
   "cell_type": "code",
   "execution_count": 7,
   "metadata": {},
   "outputs": [
    {
     "data": {
      "text/plain": [
       "array([[1. , 2.1, 5.2],\n",
       "       [1. , 1.8, 5.3],\n",
       "       [1. , 2. , 5.1],\n",
       "       [1. , 1.9, 5.4]])"
      ]
     },
     "execution_count": 7,
     "metadata": {},
     "output_type": "execute_result"
    }
   ],
   "source": [
    "Z"
   ]
  },
  {
   "cell_type": "code",
   "execution_count": 8,
   "metadata": {},
   "outputs": [
    {
     "data": {
      "text/plain": [
       "array([[1.8, 5.3],\n",
       "       [2. , 5.1],\n",
       "       [1.9, 5.4],\n",
       "       [2.2, 5.2]])"
      ]
     },
     "execution_count": 8,
     "metadata": {},
     "output_type": "execute_result"
    }
   ],
   "source": [
    "Y"
   ]
  },
  {
   "cell_type": "code",
   "execution_count": 9,
   "metadata": {},
   "outputs": [
    {
     "data": {
      "text/plain": [
       "array([[ 1.01758703, -0.03690788],\n",
       "       [-0.03690788,  1.055689  ]])"
      ]
     },
     "execution_count": 9,
     "metadata": {},
     "output_type": "execute_result"
    }
   ],
   "source": [
    "cov_matrix = ols.cov_matrix_\n",
    "cov_matrix"
   ]
  },
  {
   "cell_type": "code",
   "execution_count": 10,
   "metadata": {},
   "outputs": [
    {
     "data": {
      "text/plain": [
       "array([[-1.78459691,  6.96860206],\n",
       "       [-0.3892921 ,  0.49047194],\n",
       "       [ 0.8607079 , -0.50952806]])"
      ]
     },
     "execution_count": 10,
     "metadata": {},
     "output_type": "execute_result"
    }
   ],
   "source": [
    "var.gls_estimation(Y, Z, cov_matrix)"
   ]
  },
  {
   "cell_type": "code",
   "execution_count": 11,
   "metadata": {},
   "outputs": [
    {
     "data": {
      "text/plain": [
       "(4, 2)"
      ]
     },
     "execution_count": 11,
     "metadata": {},
     "output_type": "execute_result"
    }
   ],
   "source": [
    "n_samples, n_features = Y.shape\n",
    "Y.shape"
   ]
  },
  {
   "cell_type": "code",
   "execution_count": 12,
   "metadata": {},
   "outputs": [
    {
     "data": {
      "text/plain": [
       "array([[ 1.01758703, -0.03690788,  0.        , -0.        ,  0.        ,\n",
       "        -0.        ,  0.        , -0.        ],\n",
       "       [-0.03690788,  1.055689  , -0.        ,  0.        , -0.        ,\n",
       "         0.        , -0.        ,  0.        ],\n",
       "       [ 0.        , -0.        ,  1.01758703, -0.03690788,  0.        ,\n",
       "        -0.        ,  0.        , -0.        ],\n",
       "       [-0.        ,  0.        , -0.03690788,  1.055689  , -0.        ,\n",
       "         0.        , -0.        ,  0.        ],\n",
       "       [ 0.        , -0.        ,  0.        , -0.        ,  1.01758703,\n",
       "        -0.03690788,  0.        , -0.        ],\n",
       "       [-0.        ,  0.        , -0.        ,  0.        , -0.03690788,\n",
       "         1.055689  , -0.        ,  0.        ],\n",
       "       [ 0.        , -0.        ,  0.        , -0.        ,  0.        ,\n",
       "        -0.        ,  1.01758703, -0.03690788],\n",
       "       [-0.        ,  0.        , -0.        ,  0.        , -0.        ,\n",
       "         0.        , -0.03690788,  1.055689  ]])"
      ]
     },
     "execution_count": 12,
     "metadata": {},
     "output_type": "execute_result"
    }
   ],
   "source": [
    "kron_cov = kron(np.eye(len(Y)), cov_matrix)\n",
    "kron_cov"
   ]
  },
  {
   "cell_type": "code",
   "execution_count": 13,
   "metadata": {},
   "outputs": [
    {
     "data": {
      "text/plain": [
       "4"
      ]
     },
     "execution_count": 13,
     "metadata": {},
     "output_type": "execute_result"
    }
   ],
   "source": [
    "len(Z)"
   ]
  },
  {
   "cell_type": "code",
   "execution_count": 14,
   "metadata": {},
   "outputs": [],
   "source": [
    "Z_tilde = kron(np.eye(n_features), Z)\n",
    "Y_tilde = Y.flatten(order='F')"
   ]
  },
  {
   "cell_type": "code",
   "execution_count": 15,
   "metadata": {},
   "outputs": [
    {
     "data": {
      "text/plain": [
       "array([1.8, 2. , 1.9, 2.2, 5.3, 5.1, 5.4, 5.2])"
      ]
     },
     "execution_count": 15,
     "metadata": {},
     "output_type": "execute_result"
    }
   ],
   "source": [
    "Y_tilde"
   ]
  },
  {
   "cell_type": "code",
   "execution_count": 16,
   "metadata": {},
   "outputs": [
    {
     "data": {
      "text/plain": [
       "array([[1. , 2.1, 5.2, 0. , 0. , 0. ],\n",
       "       [1. , 1.8, 5.3, 0. , 0. , 0. ],\n",
       "       [1. , 2. , 5.1, 0. , 0. , 0. ],\n",
       "       [1. , 1.9, 5.4, 0. , 0. , 0. ],\n",
       "       [0. , 0. , 0. , 1. , 2.1, 5.2],\n",
       "       [0. , 0. , 0. , 1. , 1.8, 5.3],\n",
       "       [0. , 0. , 0. , 1. , 2. , 5.1],\n",
       "       [0. , 0. , 0. , 1. , 1.9, 5.4]])"
      ]
     },
     "execution_count": 16,
     "metadata": {},
     "output_type": "execute_result"
    }
   ],
   "source": [
    "Z_tilde"
   ]
  },
  {
   "cell_type": "code",
   "execution_count": 17,
   "metadata": {},
   "outputs": [],
   "source": [
    "Z_T_cov_inv = np.dot(Z_tilde.T, inv(kron_cov)) "
   ]
  },
  {
   "cell_type": "code",
   "execution_count": 18,
   "metadata": {},
   "outputs": [],
   "source": [
    "ZT_COV_Z = Z_T_cov_inv @ Z_tilde"
   ]
  },
  {
   "cell_type": "code",
   "execution_count": 19,
   "metadata": {},
   "outputs": [],
   "source": [
    "ZT_COV_Y = Z_T_cov_inv @ Y_tilde"
   ]
  },
  {
   "cell_type": "code",
   "execution_count": 20,
   "metadata": {},
   "outputs": [],
   "source": [
    "Beta_GLS = inv(ZT_COV_Z) @ ZT_COV_Y"
   ]
  },
  {
   "cell_type": "code",
   "execution_count": 21,
   "metadata": {},
   "outputs": [
    {
     "data": {
      "text/plain": [
       "array([-1.78459691, -0.3892921 ,  0.8607079 ,  6.96860206,  0.49047194,\n",
       "       -0.50952806])"
      ]
     },
     "execution_count": 21,
     "metadata": {},
     "output_type": "execute_result"
    }
   ],
   "source": [
    "Beta_GLS"
   ]
  },
  {
   "cell_type": "code",
   "execution_count": 22,
   "metadata": {},
   "outputs": [
    {
     "data": {
      "text/plain": [
       "array([-1.8875,  6.9   ])"
      ]
     },
     "execution_count": 22,
     "metadata": {},
     "output_type": "execute_result"
    }
   ],
   "source": [
    "data2 = pd.DataFrame(data2, columns=['variable_1', 'variable_2'])\n",
    "\n",
    "# Fit the VAR model using statsmodels\n",
    "model = VAR(data2)\n",
    "results = model.fit(maxlags=1)\n",
    "results.intercept"
   ]
  },
  {
   "cell_type": "code",
   "execution_count": 23,
   "metadata": {},
   "outputs": [
    {
     "data": {
      "text/plain": [
       "array([[[-0.375,  0.875],\n",
       "        [ 0.5  , -0.5  ]]])"
      ]
     },
     "execution_count": 23,
     "metadata": {},
     "output_type": "execute_result"
    }
   ],
   "source": [
    "results.coefs"
   ]
  },
  {
   "cell_type": "code",
   "execution_count": 24,
   "metadata": {},
   "outputs": [
    {
     "data": {
      "text/html": [
       "<div>\n",
       "<style scoped>\n",
       "    .dataframe tbody tr th:only-of-type {\n",
       "        vertical-align: middle;\n",
       "    }\n",
       "\n",
       "    .dataframe tbody tr th {\n",
       "        vertical-align: top;\n",
       "    }\n",
       "\n",
       "    .dataframe thead th {\n",
       "        text-align: right;\n",
       "    }\n",
       "</style>\n",
       "<table border=\"1\" class=\"dataframe\">\n",
       "  <thead>\n",
       "    <tr style=\"text-align: right;\">\n",
       "      <th></th>\n",
       "      <th>variable_1</th>\n",
       "      <th>variable_2</th>\n",
       "    </tr>\n",
       "  </thead>\n",
       "  <tbody>\n",
       "    <tr>\n",
       "      <th>0</th>\n",
       "      <td>2.1</td>\n",
       "      <td>5.2</td>\n",
       "    </tr>\n",
       "    <tr>\n",
       "      <th>1</th>\n",
       "      <td>1.8</td>\n",
       "      <td>5.3</td>\n",
       "    </tr>\n",
       "    <tr>\n",
       "      <th>2</th>\n",
       "      <td>2.0</td>\n",
       "      <td>5.1</td>\n",
       "    </tr>\n",
       "    <tr>\n",
       "      <th>3</th>\n",
       "      <td>1.9</td>\n",
       "      <td>5.4</td>\n",
       "    </tr>\n",
       "    <tr>\n",
       "      <th>4</th>\n",
       "      <td>2.2</td>\n",
       "      <td>5.2</td>\n",
       "    </tr>\n",
       "  </tbody>\n",
       "</table>\n",
       "</div>"
      ],
      "text/plain": [
       "   variable_1  variable_2\n",
       "0         2.1         5.2\n",
       "1         1.8         5.3\n",
       "2         2.0         5.1\n",
       "3         1.9         5.4\n",
       "4         2.2         5.2"
      ]
     },
     "execution_count": 24,
     "metadata": {},
     "output_type": "execute_result"
    }
   ],
   "source": [
    "data2"
   ]
  }
 ],
 "metadata": {
  "kernelspec": {
   "display_name": "pyquant",
   "language": "python",
   "name": "python3"
  },
  "language_info": {
   "codemirror_mode": {
    "name": "ipython",
    "version": 3
   },
   "file_extension": ".py",
   "mimetype": "text/x-python",
   "name": "python",
   "nbconvert_exporter": "python",
   "pygments_lexer": "ipython3",
   "version": "3.12.3"
  }
 },
 "nbformat": 4,
 "nbformat_minor": 2
}
